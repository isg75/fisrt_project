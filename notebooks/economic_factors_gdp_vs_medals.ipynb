{
 "cells": [
  {
   "cell_type": "code",
   "execution_count": null,
   "id": "6d1556b2-1e78-4e40-92f1-0a7cd86ece3c",
   "metadata": {},
   "outputs": [],
   "source": [
    "import pandas as pd\n",
    "import numpy as np\n",
    "import matplotlib.pyplot as plt\n",
    "import seaborn as sns"
   ]
  },
  {
   "cell_type": "code",
   "execution_count": null,
   "id": "1241d917-fbf0-4c61-b8e2-1dfa2e839b6c",
   "metadata": {},
   "outputs": [],
   "source": [
    "gdp_per_capita = pd.read_csv(\"../data/clean/dataset_olympics_clean/gdp_capita_final.csv\", delimiter=\";\")\n",
    "olympic_data = pd.read_csv(\"../data/clean/dataset_olympics_clean/teams_not_duplicated_summer_olympics_1996-2016_deduplicate_team_medals.csv\")"
   ]
  },
  {
   "cell_type": "code",
   "execution_count": null,
   "id": "06ba4ca0-a394-486d-aee8-10f184cab028",
   "metadata": {},
   "outputs": [],
   "source": [
    "countries_to_remove = [\n",
    "    \"North Korea\", \"Kosovo\", \"Montenegro\", \"Tuvalu\", \"Individual Athletes\",\n",
    "    \"Virgin Islands, British\", \"Virgin Islands, US\", \"South Sudan\", \"Palestine\",\n",
    "    \"Cook Islands\", \"American Samoa\", \"Swaziland\", \"Refugee Team\"]\n",
    "\n",
    "olympic_data = olympic_data[~olympic_data[\"region\"].isin(countries_to_remove)]"
   ]
  },
  {
   "cell_type": "code",
   "execution_count": null,
   "id": "07cc306b-7d5b-4ba5-aeb3-378becce0d55",
   "metadata": {},
   "outputs": [],
   "source": [
    "gdp_per_capita"
   ]
  },
  {
   "cell_type": "code",
   "execution_count": null,
   "id": "1b90610f-e4ab-43bb-86b1-90d768aa06fc",
   "metadata": {},
   "outputs": [],
   "source": [
    "gdp_per_capita.shape"
   ]
  },
  {
   "cell_type": "code",
   "execution_count": null,
   "id": "2793a92c-6314-496b-a476-c4e118aa4c2c",
   "metadata": {},
   "outputs": [],
   "source": [
    "gdp_per_capita.isna().sum()"
   ]
  },
  {
   "cell_type": "code",
   "execution_count": null,
   "id": "f9bb47b5-e552-4ab3-a70c-17f3dfee0667",
   "metadata": {},
   "outputs": [],
   "source": [
    "def clean_numeric_values(gdp_per_capita):\n",
    "    gdp_per_capita = gdp_per_capita.copy()\n",
    "    for col in gdp_per_capita.columns[2:]:  \n",
    "        gdp_per_capita[col] = (\n",
    "            gdp_per_capita[col]\n",
    "            .astype(str)\n",
    "            .str.replace('.', '', regex=False)  \n",
    "            .str.replace(',', '.', regex=False)  \n",
    "            .astype(float))\n",
    "    return gdp_per_capita\n",
    "\n",
    "gdp_per_capita = clean_numeric_values(gdp_per_capita)\n",
    "olympic_years = [1996, 2000, 2004, 2008, 2012, 2016]\n",
    "\n",
    "# New dataframe with aggregated gdp\n",
    "agg_gdp_per_capita = gdp_per_capita.iloc[:, :2].copy()  # Keep \"Country Name\" and \"Country Code\"\n",
    "\n",
    "# Calculate aggregated gdp per capita (based on previous 4 years)\n",
    "for year in olympic_years:\n",
    "    previous_years = [str(year - i) for i in range(1, 5)]  # get previous 4 years\n",
    "    available_columns = [col for col in previous_years if col in gdp_per_capita.columns]  # check if the year exists\n",
    "    agg_gdp_per_capita[str(year)] = gdp_per_capita[available_columns].sum(axis=1, skipna=True)  "
   ]
  },
  {
   "cell_type": "code",
   "execution_count": null,
   "id": "28676f27-1388-4581-84be-8131d0854bd4",
   "metadata": {},
   "outputs": [],
   "source": [
    "agg_gdp_per_capita"
   ]
  },
  {
   "cell_type": "code",
   "execution_count": null,
   "id": "3426f785-a6ce-4e09-86fc-93d58ad284c6",
   "metadata": {},
   "outputs": [],
   "source": [
    "all_countries_years = olympic_data[[\"region\", \"Year\"]].drop_duplicates()\n",
    "medals_per_country_year = (olympic_data[olympic_data[\"Medal\"] != \"No Medal\"].groupby([\"region\", \"Year\"]).size().reset_index(name=\"Total Medals\"))\n",
    "full_medals_df = all_countries_years.merge(medals_per_country_year, on=[\"region\", \"Year\"], how=\"left\")\n",
    "full_medals_df[\"Total Medals\"] = full_medals_df[\"Total Medals\"].fillna(0).astype(int)"
   ]
  },
  {
   "cell_type": "code",
   "execution_count": null,
   "id": "4782e4f6-0f29-4f17-a826-7d1fd1453201",
   "metadata": {},
   "outputs": [],
   "source": [
    "agg_gdp_per_capita_long = agg_gdp_per_capita.melt(id_vars=[\"Country Name\", \"Country Code\"], var_name=\"Year\", value_name=\"Aggregated GDP per capita\")\n",
    "agg_gdp_per_capita_long[\"Year\"] = agg_gdp_per_capita_long[\"Year\"].astype(int)\n",
    "full_medals_with_gdp = full_medals_df.merge(agg_gdp_per_capita_long, left_on=[\"region\", \"Year\"], right_on=[\"Country Name\", \"Year\"], how=\"left\")\n",
    "full_medals_with_gdp = full_medals_with_gdp.drop(columns=[\"Country Name\", \"Country Code\"])\n",
    "full_medals_with_gdp"
   ]
  },
  {
   "cell_type": "code",
   "execution_count": null,
   "id": "e1e17caf-51d8-4f2c-be2a-a3aa7c2fcc13",
   "metadata": {},
   "outputs": [],
   "source": [
    "plt.figure(figsize=(10, 6))\n",
    "plt.scatter(full_medals_with_gdp[\"Aggregated GDP per capita\"], full_medals_with_gdp[\"Total Medals\"], alpha=0.7, edgecolors='k')\n",
    "\n",
    "plt.xlabel(\"Aggregated GDP per capita (USD)\")\n",
    "plt.ylabel(\"Total Medals\")\n",
    "plt.title(\"Scatter Plot: GDP per capita vs. Total Medals\")\n",
    "\n",
    "plt.xscale(\"log\")\n",
    "plt.grid(True, linestyle=\"--\", alpha=0.6)\n",
    "plt.show()"
   ]
  },
  {
   "cell_type": "code",
   "execution_count": null,
   "id": "ff675be1-067b-4c3e-bb70-4ff1a8c6e14f",
   "metadata": {},
   "outputs": [],
   "source": [
    "medals_winners = full_medals_with_gdp[full_medals_with_gdp[\"Total Medals\"] > 0]\n",
    "\n",
    "plt.figure(figsize=(10, 6))\n",
    "plt.scatter(medals_winners[\"Aggregated GDP per capita\"], medals_winners[\"Total Medals\"], alpha=0.7, edgecolors='k')\n",
    "\n",
    "plt.xlabel(\"Aggregated GDP per capita (USD)\")\n",
    "plt.ylabel(\"Total Medals\")\n",
    "plt.title(\"Scatter Plot: GDP per capita vs. Total Medals (Only Medal Winners)\")\n",
    "\n",
    "plt.xscale(\"log\")\n",
    "plt.grid(True, linestyle=\"--\", alpha=0.6)\n",
    "plt.show()"
   ]
  },
  {
   "cell_type": "code",
   "execution_count": null,
   "id": "aee1f07e-9053-4b87-81c8-7d42c03edbeb",
   "metadata": {},
   "outputs": [],
   "source": [
    "unique_years = sorted(full_medals_with_gdp[\"Year\"].unique())\n",
    "\n",
    "# Counter for images\n",
    "image_counter = 1\n",
    "\n",
    "for year in unique_years:\n",
    "    # Filter data for current year\n",
    "    medals_winners_year = full_medals_with_gdp[(full_medals_with_gdp[\"Total Medals\"] > 0) & (full_medals_with_gdp[\"Year\"] == year)]\n",
    "    \n",
    "    medals_winners_year = medals_winners_year.copy()\n",
    "    medals_winners_year[\"Log Aggregated GDP per capita\"] = np.log(medals_winners_year[\"Aggregated GDP per capita\"])\n",
    "\n",
    "    \n",
    "    plt.figure(figsize=(10, 6))\n",
    "    \n",
    "    # scatter plot with regression line\n",
    "    sns.regplot(\n",
    "        x=medals_winners_year[\"Log Aggregated GDP per capita\"], \n",
    "        y=medals_winners_year[\"Total Medals\"], \n",
    "        scatter=True, fit_reg=True,  \n",
    "        scatter_kws={\"alpha\": 0.7, \"edgecolors\": \"k\"},\n",
    "        line_kws={\"color\": \"red\", \"linewidth\": 2}\n",
    "    )\n",
    "\n",
    "    # Etiquetas y título\n",
    "    plt.xlabel(\"Log Aggregated GDP per capita\")\n",
    "    plt.ylabel(\"Total Medals\")\n",
    "    plt.title(f\"Log GDP per capita vs. Total Medals ({year})\")\n",
    "    plt.grid(True, linestyle=\"--\", alpha=0.6)\n",
    "\n",
    "    # Guardar la imagen con un nombre único\n",
    "    image_counter += 1  # Counter increment for next image\n",
    "\n",
    "   \n",
    "    plt.show()"
   ]
  },
  {
   "cell_type": "code",
   "execution_count": null,
   "id": "526e1157-598c-4bbc-af3f-73446ee42616",
   "metadata": {},
   "outputs": [],
   "source": [
    "full_medals_with_gdp"
   ]
  },
  {
   "cell_type": "code",
   "execution_count": null,
   "id": "b6d2d175-ccee-464b-9096-80492ac36884",
   "metadata": {},
   "outputs": [],
   "source": [
    "gdp_medals_total = full_medals_with_gdp.groupby(\"region\")[[\"Total Medals\",\"Aggregated GDP per capita\"]].sum()\n",
    "gdp_medals_total"
   ]
  },
  {
   "cell_type": "code",
   "execution_count": null,
   "id": "b3335e6f-90ae-4c6a-be07-72731fe1da20",
   "metadata": {},
   "outputs": [],
   "source": [
    "df_sorted = gdp_medals_total.sort_values(\"Aggregated GDP per capita\", ascending=False)\n",
    "\n",
    "fig, ax1 = plt.subplots(figsize=(14, 6))\n",
    "\n",
    "ax1.bar(df_sorted.index, df_sorted[\"Aggregated GDP per capita\"], color=\"lightblue\", alpha=0.6, label=\"Aggregated GDP per capita\")\n",
    "ax1.set_yscale(\"log\")  \n",
    "ax1.set_ylabel(\"Aggregated GDP per capita (Log Scale)\")\n",
    "\n",
    "ax1.set_xticks([])\n",
    "ax2 = ax1.twinx()\n",
    "ax2.scatter(df_sorted.index, df_sorted[\"Total Medals\"], color=\"red\", label=\"Total Medals\", zorder=3, s=20)\n",
    "ax2.set_ylabel(\"Total Medals\")\n",
    "\n",
    "plt.title(\"Aggregated GDP per capita and Total Medals per Country\")\n",
    "\n",
    "ax1.legend(loc=\"upper left\")\n",
    "ax2.legend(loc=\"upper right\")\n",
    "\n",
    "ax1.grid(axis=\"y\", linestyle=\"--\", alpha=0.6)\n",
    "plt.show()\n"
   ]
  },
  {
   "cell_type": "code",
   "execution_count": null,
   "id": "701b8d26-6eb4-4c4d-ace2-c9d0522f9b1b",
   "metadata": {},
   "outputs": [],
   "source": [
    "#gdp_medals_mean = full_medals_with_gdp.groupby(\"region\")[[\"Total Medals\",\"Aggregated GDP per capita\"]].mean()\n",
    "full_medals_with_gdp[\"Mean GDP per capita\"] = full_medals_with_gdp[\"Aggregated GDP per capita\"]/4\n",
    "full_medals_with_gdp"
   ]
  },
  {
   "cell_type": "code",
   "execution_count": null,
   "id": "bcd57627-5f5b-44ad-a082-f2ba737a11b5",
   "metadata": {},
   "outputs": [],
   "source": [
    "full_medals_mean = full_medals_with_gdp.groupby(\"region\")[[\"Total Medals\",\"Mean GDP per capita\"]].mean()\n",
    "full_medals_mean"
   ]
  },
  {
   "cell_type": "code",
   "execution_count": null,
   "id": "3452fe56-7379-4c42-85dd-b0db523e3fb1",
   "metadata": {},
   "outputs": [],
   "source": [
    "correlation = full_medals_mean[\"Mean GDP per capita\"].corr(full_medals_mean[\"Total Medals\"])\n",
    "correlation"
   ]
  },
  {
   "cell_type": "code",
   "execution_count": null,
   "id": "b86e7cb7-faf8-43e6-842e-4addf7781932",
   "metadata": {},
   "outputs": [],
   "source": [
    "full_medals_mean = full_medals_mean.copy()\n",
    "\n",
    "full_medals_mean[\"Total Medals\"] = full_medals_mean[\"Total Medals\"].fillna(0).astype(float)\n",
    "full_medals_mean[\"Mean GDP per capita\"] = full_medals_mean[\"Mean GDP per capita\"].fillna(0).astype(float)\n",
    "full_medals_mean.index = full_medals_mean.index.astype(str)\n",
    "full_medals_mean = full_medals_mean.sort_values(\"Mean GDP per capita\", ascending=True)\n",
    "threshold = np.percentile(full_medals_mean[\"Total Medals\"], 90)\n",
    "countries_to_label = {country: (medals >= threshold) for country, medals in zip(full_medals_mean.index, full_medals_mean[\"Total Medals\"])}\n",
    "\n",
    "fig, ax = plt.subplots(figsize=(10, 12))\n",
    "\n",
    "ax.barh(full_medals_mean.index, full_medals_mean[\"Mean GDP per capita\"], color=\"#c5e3ec\", alpha=0.8)\n",
    "\n",
    "\n",
    "for i, (country, medals, gdp) in enumerate(zip(full_medals_mean.index, full_medals_mean[\"Total Medals\"], full_medals_mean[\"Mean GDP per capita\"])):\n",
    "    if medals > 0:  \n",
    "        ax.scatter(gdp, i, s=medals * 50, color=\"red\", edgecolors=\"black\", alpha=0.8)\n",
    "        if countries_to_label[country]:  \n",
    "            ax.text(gdp + (0.1 * gdp + 500), i, country, fontsize=8, ha=\"left\", va=\"center\", color=\"black\")\n",
    "\n",
    "\n",
    "ax.set_yticks([])\n",
    "ax.set_yticklabels([])\n",
    "\n",
    "\n",
    "ax.set_xlabel(\"Mean GDP per capita (USD)\")\n",
    "ax.set_ylabel(\"Countries\")\n",
    "ax.set_title(\"Mean GDP per capita & Olympic Medals per Country\")\n",
    "\n",
    "\n",
    "plt.show()"
   ]
  }
 ],
 "metadata": {
  "kernelspec": {
   "display_name": "project1_venv",
   "language": "python",
   "name": "project1_venv"
  },
  "language_info": {
   "codemirror_mode": {
    "name": "ipython",
    "version": 3
   },
   "file_extension": ".py",
   "mimetype": "text/x-python",
   "name": "python",
   "nbconvert_exporter": "python",
   "pygments_lexer": "ipython3",
   "version": "3.9.18"
  }
 },
 "nbformat": 4,
 "nbformat_minor": 5
}
