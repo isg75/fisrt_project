{
 "cells": [
  {
   "cell_type": "code",
   "execution_count": null,
   "id": "28ca1f4c-9085-4593-b15c-7dd2e96d217f",
   "metadata": {},
   "outputs": [],
   "source": [
    "import pandas as pd\n",
    "import numpy as np\n",
    "import re\n",
    "import seaborn as sns\n",
    "olympic_podium=pd.read_csv('../data/clean/dataset_olympics_clean/podium_1996-2016.csv')\n",
    "olympic_podium.region.fillna(\"Singapore\",inplace=True)\n",
    "olympic_podium.region.isnull().sum()\n",
    "olympic_podium=olympic_podium[olympic_podium.region !=\"Kosovo\"]\n",
    "olympic_podium"
   ]
  },
  {
   "cell_type": "code",
   "execution_count": null,
   "id": "dfec7321-4d93-410a-b46b-77cb0ea6e261",
   "metadata": {},
   "outputs": [],
   "source": [
    "time_zones=pd.read_csv(\"../data/clean/dataset_olympics_clean/time_zones2.csv\", encoding=\"latin-1\", sep=\";\")\n",
    "time_zones"
   ]
  },
  {
   "cell_type": "code",
   "execution_count": null,
   "id": "e3127020-7c62-4e98-bb94-2f117cf9d509",
   "metadata": {},
   "outputs": [],
   "source": [
    "time_zones_athlete=time_zones"
   ]
  },
  {
   "cell_type": "code",
   "execution_count": null,
   "id": "5c9e4906-d6db-47c4-b3c1-a7e74644c7df",
   "metadata": {},
   "outputs": [],
   "source": [
    "time_zones_athlete[[\"Hours\",\"Minutes\"]]=time_zones_athlete[\"GMT offset\"].str.split(\":\", expand=True)\n",
    "time_zones_athlete\n",
    "time_zones_athlete.Minutes.fillna(\"00\",inplace=True)\n",
    "time_zones_athlete.head(40)\n",
    "\n",
    "time_zones_athlete[\"Minutes\"]=time_zones_athlete[\"Minutes\"].map({\n",
    "    \"30\": 0.5,\n",
    "    \"00\": 0,\n",
    "    \"0\": 0\n",
    "})\n",
    "time_zones_athlete[\"Hours\"]=time_zones_athlete[\"Hours\"].astype(float).abs()\n",
    "time_zones_athlete[\"GMT Athlete Country\"]=time_zones_athlete[\"Hours\"]+time_zones_athlete[\"Minutes\"]\n",
    "\n",
    "time_zones_athlete"
   ]
  },
  {
   "cell_type": "code",
   "execution_count": null,
   "id": "320d6763-a69c-4037-a518-5e19c3cb0a07",
   "metadata": {},
   "outputs": [],
   "source": [
    "time_zones_athlete.rename(columns={\"Country\":'region'}, inplace=True)\n",
    "time_zones_athlete"
   ]
  },
  {
   "cell_type": "code",
   "execution_count": null,
   "id": "410e195e-9b88-4fda-893e-a80e3e6c4d1d",
   "metadata": {},
   "outputs": [],
   "source": [
    "olympic_podium=pd.merge(\n",
    "    olympic_podium, \n",
    "    time_zones_athlete[[\"region\",\"GMT Athlete Country\",\"Capital city\"]],\n",
    "    on=\"region\",\n",
    "    how=\"left\")\n",
    "\n",
    "olympic_podium"
   ]
  },
  {
   "cell_type": "code",
   "execution_count": null,
   "id": "588f88e2-a919-46e0-96a4-9e3e9b846b3b",
   "metadata": {},
   "outputs": [],
   "source": [
    "print(olympic_podium.region.isnull().sum())\n",
    "print(olympic_podium[\"GMT Athlete Country\"].isnull().sum())\n",
    "print(olympic_podium[\"Capital city\"].isnull().sum())"
   ]
  },
  {
   "cell_type": "code",
   "execution_count": null,
   "id": "5653c89e-7f6e-4bbc-8307-63b4fed2070f",
   "metadata": {},
   "outputs": [],
   "source": [
    "olympic_podium[olympic_podium[\"GMT Athlete Country\"].isnull()].head()"
   ]
  },
  {
   "cell_type": "code",
   "execution_count": null,
   "id": "890f187f-98dd-49d6-8c24-df4838683d29",
   "metadata": {},
   "outputs": [],
   "source": [
    "olympic_podium.dropna(subset=[\"GMT Athlete Country\"], inplace=True)\n",
    "print(olympic_podium.region.isnull().sum())\n",
    "print(olympic_podium[\"GMT Athlete Country\"].isnull().sum())\n",
    "print(olympic_podium[\"Capital city\"].isnull().sum())"
   ]
  },
  {
   "cell_type": "code",
   "execution_count": null,
   "id": "f3461f9b-2999-41e4-b271-b69c8389520c",
   "metadata": {},
   "outputs": [],
   "source": [
    "time_zones_host=time_zones_athlete\n",
    "time_zones_host.rename(columns={\"Capital city\":'City'}, inplace=True)\n",
    "time_zones_host.rename(columns={\"GMT Athlete Country\":'GMT Host City'}, inplace=True)\n",
    "time_zones_host"
   ]
  },
  {
   "cell_type": "code",
   "execution_count": null,
   "id": "53695bd3-5e80-469f-b213-a50a550d0c0f",
   "metadata": {},
   "outputs": [],
   "source": [
    "olympic_podium=pd.merge(\n",
    "    olympic_podium, \n",
    "    time_zones_host[[\"City\",\"GMT Host City\"]],\n",
    "    on=\"City\",\n",
    "    how=\"left\")\n",
    "\n",
    "olympic_podium"
   ]
  },
  {
   "cell_type": "code",
   "execution_count": null,
   "id": "ce0b0567-8484-4eac-8f5d-994a577e6d1c",
   "metadata": {},
   "outputs": [],
   "source": [
    "olympic_podium.isnull().any()"
   ]
  },
  {
   "cell_type": "code",
   "execution_count": null,
   "id": "81f75809-02da-4202-a7ee-0ba4fb65c6b5",
   "metadata": {},
   "outputs": [],
   "source": [
    "olympic_podium.info()"
   ]
  },
  {
   "cell_type": "code",
   "execution_count": null,
   "id": "199b2c8f-1d61-4e9b-9e69-595665d731e1",
   "metadata": {},
   "outputs": [],
   "source": []
  },
  {
   "cell_type": "code",
   "execution_count": null,
   "id": "4c30b1cd-c364-4f9e-bf2b-42c31f5aa16f",
   "metadata": {},
   "outputs": [],
   "source": [
    "olympic_podium[\"Time difference\"]=(olympic_podium[\"GMT Host City\"]-olympic_podium[\"GMT Athlete Country\"]).abs()\n",
    "olympic_podium"
   ]
  },
  {
   "cell_type": "code",
   "execution_count": null,
   "id": "c82907fa-bb1b-47e2-a559-90d9e9d3063b",
   "metadata": {},
   "outputs": [],
   "source": [
    "olympic_podium.groupby(\"Time difference\")[\"Medal\"].count()\n"
   ]
  },
  {
   "cell_type": "code",
   "execution_count": null,
   "id": "c86f6604-9445-4e18-91b0-ac942ab79979",
   "metadata": {},
   "outputs": [],
   "source": [
    "def create_range_time(time):\n",
    "    if time <= 2.0:\n",
    "        return \"[0-2.0]\"\n",
    "    elif time <=4:\n",
    "        return \"(2.0-4.0]\"\n",
    "    elif time <=6:\n",
    "        return \"(4.0-6.0]\"\n",
    "    elif time <=8:\n",
    "        return \"(6.0-8.0]\"\n",
    "    elif time <=10:\n",
    "        return \"(8.0-10.0]\"\n",
    "    elif time <=12:\n",
    "        return \"(10.0-12.0]\"\n",
    "    else:\n",
    "        return \"(12.0-13.00]\""
   ]
  },
  {
   "cell_type": "code",
   "execution_count": null,
   "id": "090a5c28-c878-46fd-a43f-7f8a44d3c99a",
   "metadata": {},
   "outputs": [],
   "source": [
    "olympic_podium[\"Range Time\"]=olympic_podium[\"Time difference\"].apply(create_range_time)\n",
    "olympic_podium"
   ]
  },
  {
   "cell_type": "code",
   "execution_count": null,
   "id": "7dccc92b-469e-4fcf-ba20-7cf0e5c03fc3",
   "metadata": {},
   "outputs": [],
   "source": [
    "olympic_podium.groupby(\"Range Time\")[\"Medal\"].count().sort_values(ascending=False)"
   ]
  },
  {
   "cell_type": "code",
   "execution_count": null,
   "id": "347891d0-ec4a-487c-9a19-e8b326d7ba0e",
   "metadata": {},
   "outputs": [],
   "source": [
    "olympic_podium_range_df=pd.DataFrame(olympic_podium.groupby(\"Range Time\")[\"Medal\"].count().sort_values(ascending=False)).reset_index()\n",
    "olympic_podium_range_df"
   ]
  },
  {
   "cell_type": "code",
   "execution_count": null,
   "id": "a71be0ca-9c63-48b7-a95f-1d7c2851cf41",
   "metadata": {},
   "outputs": [],
   "source": [
    "import plotly.express as px\n",
    "fig1 = px.bar(olympic_podium_range_df, x = 'Range Time', y = 'Medal')\n",
    "\n",
    "fig1.show()"
   ]
  },
  {
   "cell_type": "code",
   "execution_count": null,
   "id": "499562c6-a5b1-48d0-889d-fe7eb044921d",
   "metadata": {},
   "outputs": [],
   "source": [
    "olympic_podium_corr=olympic_podium\n",
    "olympic_podium_corr"
   ]
  },
  {
   "cell_type": "code",
   "execution_count": null,
   "id": "7c845100-4b97-40b7-a1c7-4572dd3ec588",
   "metadata": {},
   "outputs": [],
   "source": [
    "olympic_podium_corr[\"Time difference\"]=olympic_podium_corr[\"Time difference\"].map({\n",
    "    0.0: 0.0,\n",
    "    0.5: 1.0,\n",
    "    1.5: 2.0,\n",
    "    2.5: 3.0,\n",
    "    3.5: 4.0,\n",
    "    4.5: 5.0,\n",
    "    5.5: 6.0,\n",
    "    6.5: 4.0,\n",
    "    7.5: 8.0,\n",
    "    8.5: 9.0,\n",
    "    9.5: 10.0,\n",
    "    10.5: 11.0,\n",
    "    11.5: 12.0,\n",
    "    12.5: 13.0,\n",
    "    1.0: 1.0,\n",
    "    2.0: 2.0,\n",
    "    3.0: 3.0,\n",
    "    4.0: 4.0,\n",
    "    5.0: 5.0,\n",
    "    6.0: 6.0,\n",
    "    7.0: 7.0,\n",
    "    8.0: 8.0,\n",
    "    9.0: 9.0,\n",
    "    10.0: 10.0,\n",
    "    11.0: 11.0,\n",
    "    12.0: 12.0,\n",
    "    13.0: 13.0,\n",
    "    \n",
    "})\n",
    "\n",
    "olympic_podium_corr"
   ]
  },
  {
   "cell_type": "code",
   "execution_count": null,
   "id": "1e5f1f21-7041-4929-8f37-48bc30382db2",
   "metadata": {},
   "outputs": [],
   "source": [
    "olympic_podium_corr[\"Time difference\"].unique()"
   ]
  },
  {
   "cell_type": "code",
   "execution_count": null,
   "id": "b0d45779-3812-40ca-ad04-d3acb4da18f2",
   "metadata": {},
   "outputs": [],
   "source": [
    "olympic_podium_corr.groupby(\"Time difference\")[\"Medal\"].count()"
   ]
  },
  {
   "cell_type": "code",
   "execution_count": null,
   "id": "9bf2034e-c779-4424-8b52-bf6a57652906",
   "metadata": {},
   "outputs": [],
   "source": [
    "olympic_podium_corr_df=pd.DataFrame(olympic_podium_corr.groupby(\"Time difference\")[\"Medal\"].count()).reset_index()\n",
    "olympic_podium_corr_df"
   ]
  },
  {
   "cell_type": "code",
   "execution_count": null,
   "id": "180ceee0-2a1c-47ad-82c4-be171cfc3409",
   "metadata": {},
   "outputs": [],
   "source": [
    "print('Correlación Pearson: ', olympic_podium_corr_df['Time difference'].corr(olympic_podium_corr_df['Medal'], method='pearson'))"
   ]
  },
  {
   "cell_type": "code",
   "execution_count": null,
   "id": "3873ecf3-36df-49c1-b0a8-5580f597c1c9",
   "metadata": {},
   "outputs": [],
   "source": [
    "sns.regplot(x = olympic_podium_corr_df[\"Time difference\"], y = olympic_podium_corr_df[\"Medal\"])"
   ]
  },
  {
   "cell_type": "code",
   "execution_count": null,
   "id": "d054c68e-d725-4468-8d89-ec4dd1301eb5",
   "metadata": {},
   "outputs": [],
   "source": []
  },
  {
   "cell_type": "code",
   "execution_count": null,
   "id": "2c1203d2-1bb6-4855-8ebf-761e3caa5997",
   "metadata": {},
   "outputs": [],
   "source": []
  }
 ],
 "metadata": {
  "kernelspec": {
   "display_name": ".venv",
   "language": "python",
   "name": ".venv"
  },
  "language_info": {
   "codemirror_mode": {
    "name": "ipython",
    "version": 3
   },
   "file_extension": ".py",
   "mimetype": "text/x-python",
   "name": "python",
   "nbconvert_exporter": "python",
   "pygments_lexer": "ipython3",
   "version": "3.13.1"
  }
 },
 "nbformat": 4,
 "nbformat_minor": 5
}
