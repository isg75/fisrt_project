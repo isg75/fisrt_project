{
 "cells": [
  {
   "cell_type": "code",
   "execution_count": null,
   "id": "4b1ab74e-7812-46de-904f-fad6f58ce8ae",
   "metadata": {},
   "outputs": [],
   "source": [
    "import pandas as pd\n",
    "import numpy as np\n",
    "import matplotlib.pyplot as plt\n",
    "import re\n",
    "olympic_data2=pd.read_csv('../data/clean/dataset_olympics_clean/teams_not_duplicated_summer_olympics_1996-2016_deduplicate_team_medals.csv')"
   ]
  },
  {
   "cell_type": "code",
   "execution_count": null,
   "id": "7c6be957-9742-41a5-a757-4ddec6498005",
   "metadata": {},
   "outputs": [],
   "source": [
    "#Hypothesis: Medalists under 22 years old are more likely to win again at the next olympics. (when they are still within their optimal age)\n",
    "\n",
    "# Filter athlets into groups\n",
    "group_under_22_medals = olympic_data2[(olympic_data2['Age'] < 22) & (olympic_data2['Medal'] != 'No Medal')]\n",
    "group_over_22_medals = olympic_data2[(olympic_data2['Age'] >= 22) & (olympic_data2['Medal'] != 'No Medal')]\n",
    "group_under_22_no_medals = olympic_data2[(olympic_data2['Age'] < 22) & (olympic_data2['Medal'] == 'No Medal')]\n",
    "group_over_22_no_medals = olympic_data2[(olympic_data2['Age'] >= 22) & (olympic_data2['Medal'] == 'No Medal')]\n",
    "\n",
    "# Function to calculate repeat medalists for a group\n",
    "def calculate_repeat_medalists(group, olympic_data2):\n",
    "    # Find athletes from the group in the next Olympics\n",
    "    next_olympics = pd.merge(\n",
    "        group,\n",
    "        olympic_data2,\n",
    "        left_on=['Name', 'region'],\n",
    "        right_on=['Name', 'region'],\n",
    "        suffixes=('_current', '_next')\n",
    "    )\n",
    "    next_olympics = next_olympics[next_olympics['Year_next'] == next_olympics['Year_current'] + 4]\n",
    "\n",
    "    # Calculate repeat medalists\n",
    "    next_olympics['Won_Medal_Next'] = next_olympics['Medal_next'] != 'No Medal'\n",
    "    repeat_medalists = next_olympics['Won_Medal_Next'].sum()\n",
    "    total_athletes = len(group)\n",
    "    percentage_repeat_medalists = (repeat_medalists / total_athletes) * 100 if total_athletes > 0 else 0\n",
    "    return total_athletes, repeat_medalists, percentage_repeat_medalists\n",
    "\n",
    "# Calculate statistics for each group\n",
    "groups = {\n",
    "    \"Under 22 with Medals\": group_under_22_medals,\n",
    "    \"Over 22 with Medals\": group_over_22_medals,\n",
    "    \"Under 22 without Medals\": group_under_22_no_medals,\n",
    "    \"Over 22 without Medals\": group_over_22_no_medals,\n",
    "}\n",
    "\n",
    "results = {}\n",
    "for group_name, group_data in groups.items():\n",
    "    total, repeat, percentage = calculate_repeat_medalists(group_data, olympic_data2)\n",
    "    results[group_name] = {\n",
    "        \"Total Athletes\": total,\n",
    "        \"Repeat Medalists\": repeat,\n",
    "        \"Percentage Repeat Medalists\": percentage,\n",
    "    }\n",
    "\n",
    "# Display the results\n",
    "for group_name, stats in results.items():\n",
    "    print(f\"{group_name}:\")\n",
    "    print(f\"  Total Athletes: {stats['Total Athletes']}\")\n",
    "    print(f\"  Repeat Medalists: {stats['Repeat Medalists']}\")\n",
    "    print(f\"  Percentage Repeat Medalists: {stats['Percentage Repeat Medalists']:.2f}%\\n\")"
   ]
  },
  {
   "cell_type": "code",
   "execution_count": null,
   "id": "cbd8486c-ca4f-4347-afd9-e933aeb65c47",
   "metadata": {},
   "outputs": [],
   "source": [
    "\n",
    "\n",
    "# Example data extracted from the previous results dictionary\n",
    "group_names = list(results.keys())\n",
    "total_athletes = [results[group][\"Total Athletes\"] for group in group_names]\n",
    "repeat_medalists = [results[group][\"Repeat Medalists\"] for group in group_names]\n",
    "\n",
    "# Pie Chart: Proportion of Repeat Medalists for Each Group\n",
    "for i, group in enumerate(group_names):\n",
    "    plt.figure(figsize=(6, 6))\n",
    "    labels = ['Repeat Medalists', 'Non-Repeat Medalists']\n",
    "    sizes = [repeat_medalists[i], total_athletes[i] - repeat_medalists[i]]\n",
    "    colors = ['#FCB131', '#0081C8']  # Yellow for repeat medalists, Blue for non-repeat medalists\n",
    "    plt.pie(sizes, labels=labels, autopct='%1.1f%%', startangle=90, colors=colors)\n",
    "    plt.title(f'Repeat Medalists Proportion: {group}')\n",
    "    plt.show()"
   ]
  },
  {
   "cell_type": "code",
   "execution_count": null,
   "id": "34e5989f-b48f-4c32-92ee-abd547685c67",
   "metadata": {},
   "outputs": [],
   "source": [
    "results"
   ]
  },
  {
   "cell_type": "code",
   "execution_count": null,
   "id": "baa9dd70-7062-41f5-b525-828ac41ab142",
   "metadata": {},
   "outputs": [],
   "source": []
  },
  {
   "cell_type": "code",
   "execution_count": null,
   "id": "bbe41ee2-78c4-4966-bddb-0181881acbff",
   "metadata": {},
   "outputs": [],
   "source": []
  }
 ],
 "metadata": {
  "kernelspec": {
   "display_name": ".venv",
   "language": "python",
   "name": ".venv"
  },
  "language_info": {
   "codemirror_mode": {
    "name": "ipython",
    "version": 3
   },
   "file_extension": ".py",
   "mimetype": "text/x-python",
   "name": "python",
   "nbconvert_exporter": "python",
   "pygments_lexer": "ipython3",
   "version": "3.12.7"
  }
 },
 "nbformat": 4,
 "nbformat_minor": 5
}
