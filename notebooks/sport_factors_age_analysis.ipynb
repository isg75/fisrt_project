{
 "cells": [
  {
   "cell_type": "code",
   "execution_count": null,
   "id": "2c9397d7-454b-4bf2-937d-301b6fea7d1e",
   "metadata": {},
   "outputs": [],
   "source": [
    "import pandas as pd\n",
    "import matplotlib.pyplot as plt\n",
    "import seaborn as sns\n",
    "olympic_data2 = pd.read_csv(\"../data/clean/dataset_olympics_clean/teams_not_duplicated_summer_olympics_1996-2016_deduplicate_team_medals.csv\")"
   ]
  },
  {
   "cell_type": "code",
   "execution_count": null,
   "id": "d391ff94-7198-403c-ac2b-0396c0cdd940",
   "metadata": {},
   "outputs": [],
   "source": [
    "# Define custom Olympic colors for charts\n",
    "olympic_colors = {\n",
    "    \"blue\": \"#0081C8\",\n",
    "    \"yellow\": \"#FCB131\",\n",
    "    \"black\": \"#000000\",\n",
    "    \"green\": \"#00A651\",\n",
    "    \"red\": \"#EE334E\"\n",
    "}"
   ]
  },
  {
   "cell_type": "code",
   "execution_count": null,
   "id": "05c5fd6e-14ca-4e4f-9dd1-16226f8a1058",
   "metadata": {
    "scrolled": true
   },
   "outputs": [],
   "source": [
    "#Hypothesis: Younger athletes are more likely to win medals\n",
    "\n",
    "\n",
    "# Filter only medalists\n",
    "medalists = olympic_data2[olympic_data2['Medal'].notna() & (olympic_data2['Medal'] != 'No Medal')]\n",
    "\n",
    "# Calculate median age of medalists\n",
    "median_age = medalists['Age'].median()\n",
    "\n",
    "# Histogram: Age distribution of medalists\n",
    "plt.figure(figsize=(10, 6))\n",
    "sns.histplot(medalists['Age'], bins=20, kde=True, color=olympic_colors[\"blue\"])\n",
    "plt.axvline(median_age, color=olympic_colors[\"red\"], linestyle='dashed', linewidth=2, label=f'Median Age: {median_age}')\n",
    "plt.xlabel(\"Age of Medalists\", color=olympic_colors[\"black\"])\n",
    "plt.ylabel(\"Frequency\", color=olympic_colors[\"black\"])\n",
    "plt.title(\"Distribution of Medalist Ages\", color=olympic_colors[\"black\"])\n",
    "plt.legend()\n",
    "plt.grid(axis='y', linestyle='--', alpha=0.7)\n",
    "plt.show()"
   ]
  },
  {
   "cell_type": "code",
   "execution_count": null,
   "id": "52cc7885-ee6a-45b0-8f4b-1b258d7539e3",
   "metadata": {},
   "outputs": [],
   "source": [
    "# Scatter plot of Age vs. Medals Won\n",
    "medal_counts = medalists.groupby('Age').size().reset_index(name='Medal Count')\n",
    "\n",
    "plt.figure(figsize=(10, 6))\n",
    "sns.regplot(\n",
    "    x=medal_counts['Age'], \n",
    "    y=medal_counts['Medal Count'], \n",
    "    scatter_kws={'s': 50, 'color': olympic_colors[\"yellow\"]}, \n",
    "    line_kws={\"color\": olympic_colors[\"red\"]}  # Regression line\n",
    ")\n",
    "plt.xlabel(\"Age of Athletes\", color=olympic_colors[\"black\"])\n",
    "plt.ylabel(\"Number of Medals Won\", color=olympic_colors[\"black\"])\n",
    "plt.title(\"Relationship Between Age and Medals Won\", color=olympic_colors[\"black\"])\n",
    "plt.grid(axis='both', linestyle='--', alpha=0.7)\n",
    "plt.show()"
   ]
  },
  {
   "cell_type": "code",
   "execution_count": null,
   "id": "cf3025d2-e3f8-4c25-8310-c456c1d599b0",
   "metadata": {},
   "outputs": [],
   "source": [
    "#Correlation Analysis between Athlete Age and Number of Medals Won\n",
    "\n",
    "medal_counts.corr()"
   ]
  },
  {
   "cell_type": "code",
   "execution_count": null,
   "id": "49fa1507-ac13-4a23-9131-4cfc4f96184b",
   "metadata": {},
   "outputs": [],
   "source": [
    "#Understanding outliers from the median peak age.\n",
    "\n",
    "#Group by sport and calculate median/mean age of medalists\n",
    "sport_age_stats = medalists.groupby('Sport')['Age'].agg(['mean', 'median']).reset_index()\n",
    "print(sport_age_stats)"
   ]
  },
  {
   "cell_type": "code",
   "execution_count": null,
   "id": "7272a90f-0e4d-421f-8f16-f42027c03f47",
   "metadata": {},
   "outputs": [],
   "source": []
  }
 ],
 "metadata": {
  "kernelspec": {
   "display_name": ".venv",
   "language": "python",
   "name": ".venv"
  },
  "language_info": {
   "codemirror_mode": {
    "name": "ipython",
    "version": 3
   },
   "file_extension": ".py",
   "mimetype": "text/x-python",
   "name": "python",
   "nbconvert_exporter": "python",
   "pygments_lexer": "ipython3",
   "version": "3.12.7"
  }
 },
 "nbformat": 4,
 "nbformat_minor": 5
}
